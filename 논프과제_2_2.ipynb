{
  "nbformat": 4,
  "nbformat_minor": 0,
  "metadata": {
    "colab": {
      "provenance": [],
      "collapsed_sections": [],
      "authorship_tag": "ABX9TyMrlvogO1Nn3UUvJbkGDH/m",
      "include_colab_link": true
    },
    "kernelspec": {
      "name": "python3",
      "display_name": "Python 3"
    },
    "language_info": {
      "name": "python"
    }
  },
  "cells": [
    {
      "cell_type": "markdown",
      "metadata": {
        "id": "view-in-github",
        "colab_type": "text"
      },
      "source": [
        "<a href=\"https://colab.research.google.com/github/vkdl/python/blob/main/%EB%85%BC%ED%94%84%EA%B3%BC%EC%A0%9C_2_2.ipynb\" target=\"_parent\"><img src=\"https://colab.research.google.com/assets/colab-badge.svg\" alt=\"Open In Colab\"/></a>"
      ]
    },
    {
      "cell_type": "code",
      "source": [
        "while True:\n",
        "  a = int(input('숫자를 입력하세요.'))\n",
        "  if a>30:\n",
        "    print('너무 숫자가 큽니다.')\n",
        "  else:\n",
        "    break\n",
        "  \n",
        "i = 0\n",
        "while True:\n",
        "   i+=1\n",
        "   if i>a:\n",
        "    break\n",
        "   print('*'*(i-1), end='')\n",
        "   print(i)"
      ],
      "metadata": {
        "colab": {
          "base_uri": "https://localhost:8080/"
        },
        "id": "drJQe9eCr6u4",
        "outputId": "fb36e1cb-f4ae-4c4c-9d1a-03e93def6a88"
      },
      "execution_count": null,
      "outputs": [
        {
          "output_type": "stream",
          "name": "stdout",
          "text": [
            "숫자를 입력하세요.9\n",
            "1\n",
            "*2\n",
            "**3\n",
            "***4\n",
            "****5\n",
            "*****6\n",
            "******7\n",
            "*******8\n",
            "********9\n"
          ]
        }
      ]
    }
  ]
}