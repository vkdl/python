{
  "nbformat": 4,
  "nbformat_minor": 0,
  "metadata": {
    "colab": {
      "provenance": [],
      "authorship_tag": "ABX9TyNEKCZs/i9yRMTSVhA4rM0H",
      "include_colab_link": true
    },
    "kernelspec": {
      "name": "python3",
      "display_name": "Python 3"
    },
    "language_info": {
      "name": "python"
    }
  },
  "cells": [
    {
      "cell_type": "markdown",
      "metadata": {
        "id": "view-in-github",
        "colab_type": "text"
      },
      "source": [
        "<a href=\"https://colab.research.google.com/github/vkdl/python/blob/main/test_dataset%EC%9C%BC%EB%A1%9C_accuracy.ipynb\" target=\"_parent\"><img src=\"https://colab.research.google.com/assets/colab-badge.svg\" alt=\"Open In Colab\"/></a>"
      ]
    },
    {
      "cell_type": "code",
      "execution_count": null,
      "metadata": {
        "colab": {
          "base_uri": "https://localhost:8080/",
          "height": 391
        },
        "id": "SqVo7sQURcfG",
        "outputId": "e65b8c4b-bec3-47be-9513-3d6a58f0efc2"
      },
      "outputs": [
        {
          "output_type": "stream",
          "name": "stderr",
          "text": [
            "/usr/local/lib/python3.7/dist-packages/ipykernel_launcher.py:36: FutureWarning: Dropping of nuisance columns in DataFrame reductions (with 'numeric_only=None') is deprecated; in a future version this will raise TypeError.  Select only valid columns before calling the reduction.\n",
            "/usr/local/lib/python3.7/dist-packages/ipykernel_launcher.py:39: FutureWarning: Dropping of nuisance columns in DataFrame reductions (with 'numeric_only=None') is deprecated; in a future version this will raise TypeError.  Select only valid columns before calling the reduction.\n"
          ]
        },
        {
          "output_type": "display_data",
          "data": {
            "text/plain": [
              "<Figure size 432x288 with 1 Axes>"
            ],
            "image/png": "[encoded data removed]"
          },
          "metadata": {
            "needs_background": "light"
          }
        },
        {
          "output_type": "stream",
          "name": "stdout",
          "text": [
            "10/10 [==============================] - 0s 2ms/step - loss: 1.5401 - accuracy: 0.8119\n",
            "\n",
            " Accuracy: 0.8119\n"
          ]
        }
      ],
      "source": [
        "# 사용할 모듈\n",
        "from keras.models import Sequential\n",
        "from keras.layers.core import Dense\n",
        "from keras.utils import np_utils\n",
        "from tensorflow.keras.layers import Dropout\n",
        "from tensorflow.keras.callbacks import ModelCheckpoint, EarlyStopping\n",
        "from sklearn.model_selection import train_test_split\n",
        "from sklearn.model_selection import KFold\n",
        "from sklearn.metrics import accuracy_score\n",
        "\n",
        "import pandas as pd\n",
        "import seaborn as sns\n",
        "import matplotlib.pyplot as plt\n",
        "import numpy as np\n",
        "import tensorflow as tf\n",
        "import os\n",
        "\n",
        "# random seed 설정\n",
        "np.random.seed(3)\n",
        "tf.random.set_seed(3)\n",
        "\n",
        "# 데이터 프레임\n",
        "url1 = \"https://raw.github.com/vkdl/gitpro/main-branch/heart%20disease%20classification%20dataset.csv\"\n",
        "df = pd.read_csv(url1)\n",
        "\n",
        "# 예측값 one-hot encoding\n",
        "y = df.iloc[:,14]\n",
        "y = pd.get_dummies(y)\n",
        "y1 = y.drop('no', axis=1)\n",
        "\n",
        "# 성별값 one-hot encoding\n",
        "z = df.iloc[:,2]\n",
        "z = pd.get_dummies(z)\n",
        "\n",
        "# 결측값 변수별 평균으로 대체\n",
        "df = df.fillna(df.mean())\n",
        "\n",
        "# 자료의 Standardization\n",
        "normalization_df = (df - df.mean())/df.std()\n",
        "x = normalization_df.iloc[:,1:13]\n",
        "\n",
        "# 성별값과 x의 데이터 프레임의 결합\n",
        "x1 = pd.concat([x, z], axis = 1)\n",
        "\n",
        "# 학습셋과 테스트셋 구분\n",
        "x_train, x_test, y_train, y_test = train_test_split(x1, y1, test_size=0.1, shuffle=True)\n",
        "\n",
        "# 모델 설정\n",
        "model = Sequential()\n",
        "model.add(Dense(24,  input_dim=14, activation='relu'))\n",
        "model.add(Dense(10, activation='relu'))\n",
        "\n",
        "# Dropout 사용\n",
        "model.add(Dropout(0.25)) #Dropout 사용\n",
        "model.add(Dense(1, activation='sigmoid'))\n",
        "\n",
        "# 모델 컴파일\n",
        "model.compile(loss='binary_crossentropy', optimizer='adam', metrics=['accuracy'])\n",
        "\n",
        "# EarlyStopping 사용\n",
        "early_stopping_callback = EarlyStopping(monitor='val_accuracy', patience=20)\n",
        "\n",
        "# 조건을 만족하는 모델 저장\n",
        "model_dir = './model/'\n",
        "if not os.path.exists(model_dir):\n",
        "  os.mkdir(model_dir)\n",
        "\n",
        "modelpath = \"./model/{epoch:02d}-{val_accuracy:4f}.hdf5\"\n",
        "checkpointer = ModelCheckpoint(filepath = modelpath, monitor = 'val_accuracy', verbose = 0, save_best_only = True)\n",
        "\n",
        "# 모델 실행\n",
        "history = model.fit(x_test, y_test, epochs=1003, batch_size=8, validation_split=0.2, verbose=0, callbacks=[checkpointer])\n",
        "\n",
        "# 그래프\n",
        "y_vacc = history.history['val_accuracy']\n",
        "y_acc = history.history['accuracy']\n",
        "x_len = np.arange(len(y_acc))\n",
        "plt.plot(x_len, y_vacc, \"o\", c=\"red\", markersize=2, label='Testset_accuracy')\n",
        "plt.plot(x_len, y_acc, \"o\", c=\"blue\", markersize=2, label='Trainset_accuracy')\n",
        "\n",
        "plt.legend(loc='upper right')\n",
        "plt.xlabel('epoch')\n",
        "plt.ylabel('accuracy')\n",
        "plt.show()\n",
        "\n",
        "# 결과 출력\n",
        "print(\"\\n Accuracy: %.4f\" % (model.evaluate(x1, y1)[1]))"
      ]
    },
    {
      "cell_type": "code",
      "source": [],
      "metadata": {
        "id": "yzqRrge1R0CA"
      },
      "execution_count": null,
      "outputs": []
    }
  ]
}