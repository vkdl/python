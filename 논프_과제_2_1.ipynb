{
  "nbformat": 4,
  "nbformat_minor": 0,
  "metadata": {
    "colab": {
      "provenance": [],
      "collapsed_sections": [],
      "authorship_tag": "ABX9TyNC/eNVO+gj5hhRownpuKYc",
      "include_colab_link": true
    },
    "kernelspec": {
      "name": "python3",
      "display_name": "Python 3"
    },
    "language_info": {
      "name": "python"
    }
  },
  "cells": [
    {
      "cell_type": "markdown",
      "metadata": {
        "id": "view-in-github",
        "colab_type": "text"
      },
      "source": [
        "<a href=\"https://colab.research.google.com/github/vkdl/python/blob/main/%EB%85%BC%ED%94%84_%EA%B3%BC%EC%A0%9C_2_1.ipynb\" target=\"_parent\"><img src=\"https://colab.research.google.com/assets/colab-badge.svg\" alt=\"Open In Colab\"/></a>"
      ]
    },
    {
      "cell_type": "code",
      "source": [
        "a=int(input('자연수 한 개를 입력하세요.'))\n",
        "list2=[]\n",
        "x = list2.append(a)\n",
        "while(1):\n",
        "  b=int(input('계속 입력을 원하시면, 자연수 한 개를 입력하시고, 아니라면 0을 입력하세요.'))\n",
        "  y = list2.append(b)\n",
        "  if b == 0:\n",
        "    list2.remove(0)\n",
        "    break\n",
        "  elif len(list2) == 100:\n",
        "   print('이제 그만하세요. 벌써 100개를 입력했어요.')\n",
        "   break\n",
        "\n",
        "print('당신이 입력한 숫자는 큰 것부터 순서대로 말한다면 아래와 같습니다.')\n",
        "\n",
        "for i in range(len(list2)):\n",
        "  k = len(list2) - i\n",
        "  for n in range(1, k):\n",
        "    if int(list2[n-1]) <= int(list2[n]):\n",
        "      temp = list2[n-1]\n",
        "      list2[n-1] = list2[n]\n",
        "      list2[n] = temp\n",
        "list2 = str(list2)[1:-1]\n",
        "print(list2)"
      ],
      "metadata": {
        "colab": {
          "base_uri": "https://localhost:8080/"
        },
        "id": "1v0GT7B5jBF-",
        "outputId": "9b22f65a-32aa-4e78-92d3-6f16d0f8c87a"
      },
      "execution_count": null,
      "outputs": [
        {
          "output_type": "stream",
          "name": "stdout",
          "text": [
            "자연수 한 개를 입력하세요.1\n",
            "계속 입력을 원하시면, 자연수 한 개를 입력하시고, 아니라면 0을 입력하세요.1\n",
            "계속 입력을 원하시면, 자연수 한 개를 입력하시고, 아니라면 0을 입력하세요.1\n",
            "계속 입력을 원하시면, 자연수 한 개를 입력하시고, 아니라면 0을 입력하세요.3\n",
            "계속 입력을 원하시면, 자연수 한 개를 입력하시고, 아니라면 0을 입력하세요.0\n",
            "당신이 입력한 숫자는 큰 것부터 순서대로 말한다면 아래와 같습니다.\n",
            "3, 1, 1, 1\n"
          ]
        }
      ]
    }
  ]
}