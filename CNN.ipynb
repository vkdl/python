{
  "nbformat": 4,
  "nbformat_minor": 0,
  "metadata": {
    "colab": {
      "provenance": [],
      "authorship_tag": "ABX9TyPpjydcgchs3KZN7yFZjr0+",
      "include_colab_link": true
    },
    "kernelspec": {
      "name": "python3",
      "display_name": "Python 3"
    },
    "language_info": {
      "name": "python"
    }
  },
  "cells": [
    {
      "cell_type": "markdown",
      "metadata": {
        "id": "view-in-github",
        "colab_type": "text"
      },
      "source": [
        "<a href=\"https://colab.research.google.com/github/vkdl/python/blob/main/CNN.ipynb\" target=\"_parent\"><img src=\"https://colab.research.google.com/assets/colab-badge.svg\" alt=\"Open In Colab\"/></a>"
      ]
    },
    {
      "cell_type": "code",
      "execution_count": null,
      "metadata": {
        "colab": {
          "base_uri": "https://localhost:8080/"
        },
        "id": "5soAFG_RuY6s",
        "outputId": "2df0ca08-0439-4ea4-8227-a79a7392f570"
      },
      "outputs": [
        {
          "output_type": "stream",
          "name": "stdout",
          "text": [
            "\n",
            "Epoch 1: val_loss improved from inf to 0.34994, saving model to ./model/01-0.874400.hdf5\n",
            "\n",
            "Epoch 2: val_loss improved from 0.34994 to 0.28180, saving model to ./model/02-0.896933.hdf5\n",
            "\n",
            "Epoch 3: val_loss improved from 0.28180 to 0.26361, saving model to ./model/03-0.901067.hdf5\n",
            "\n",
            "Epoch 4: val_loss improved from 0.26361 to 0.23484, saving model to ./model/04-0.915333.hdf5\n",
            "\n",
            "Epoch 5: val_loss improved from 0.23484 to 0.22977, saving model to ./model/05-0.916333.hdf5\n",
            "\n",
            "Epoch 6: val_loss improved from 0.22977 to 0.22673, saving model to ./model/06-0.919267.hdf5\n",
            "\n",
            "Epoch 7: val_loss improved from 0.22673 to 0.22634, saving model to ./model/07-0.920400.hdf5\n",
            "\n",
            "Epoch 8: val_loss improved from 0.22634 to 0.22194, saving model to ./model/08-0.921400.hdf5\n",
            "\n",
            "Epoch 9: val_loss did not improve from 0.22194\n",
            "\n",
            "Epoch 10: val_loss did not improve from 0.22194\n",
            "313/313 [==============================] - 7s 23ms/step - loss: 0.2507 - accuracy: 0.9156\n",
            "\n",
            " Test Accuracy: 0.9156\n"
          ]
        }
      ],
      "source": [
        "from tensorflow.keras.models import Sequential\n",
        "from tensorflow.keras.layers import Dense, Dropout, Flatten, Conv2D, MaxPooling2D\n",
        "from tensorflow.keras.callbacks import ModelCheckpoint,EarlyStopping\n",
        "from tensorflow.keras.datasets import mnist\n",
        "from tensorflow.keras.utils import to_categorical\n",
        "\n",
        "import matplotlib.pyplot as plt\n",
        "import numpy as np\n",
        "\n",
        "import os\n",
        "\n",
        "fashion_mnist = tf.keras.datasets.fashion_mnist\n",
        "\n",
        "# 데이터 불러오기\n",
        "(X_train, y_train), (X_test, y_test) = fashion_mnist.load_data()\n",
        "X_train = x_train.reshape(X_train.shape[0], 28, 28, 1).astype('float32') / 255\n",
        "X_test = X_test.reshape(X_test.shape[0], 28, 28, 1).astype('float32') / 255\n",
        "y_train = to_categorical(y_train)\n",
        "y_test = to_categorical(y_test)\n",
        "\n",
        "# 모델의 구조\n",
        "model = Sequential()\n",
        "model.add(Conv2D(32, kernel_size=(3, 3), input_shape=(28, 28, 1), activation='relu'))\n",
        "model.add(Conv2D(64, (3, 3), activation='relu'))\n",
        "model.add(MaxPooling2D(pool_size=(2,2)))\n",
        "model.add(Dropout(0.25))\n",
        "model.add(Flatten())\n",
        "model.add(Dense(128,  activation='relu'))\n",
        "model.add(Dropout(0.1))\n",
        "model.add(Dense(10, activation='softmax'))\n",
        "\n",
        "# 모델의 컴파일\n",
        "model.compile(loss='categorical_crossentropy',\n",
        "              optimizer='adam',\n",
        "              metrics=['accuracy'])\n",
        "\n",
        "# 모델 최적화와 저장\n",
        "\n",
        "model_dir = './model/'\n",
        "if not os.path.exists(model_dir):\n",
        "  os.mkdir(model_dir)\n",
        "\n",
        "modelpath = \"./model/{epoch:02d}-{val_accuracy:4f}.hdf5\"\n",
        "\n",
        "\n",
        "checkpointer = ModelCheckpoint(filepath=modelpath, monitor='val_loss', verbose=1, save_best_only=True)\n",
        "early_stopping_callback = EarlyStopping(monitor='val_loss', patience=10)\n",
        "\n",
        "# 모델 실행\n",
        "history = model.fit(X_train, y_train, validation_split=0.25, epochs=10, batch_size=200, verbose=0, callbacks=[early_stopping_callback,checkpointer])\n",
        "\n",
        "# 테스트 정확도 출력\n",
        "print(\"\\n Test Accuracy: %.4f\" % (model.evaluate(X_test, y_test)[1]))"
      ]
    }
  ]
}